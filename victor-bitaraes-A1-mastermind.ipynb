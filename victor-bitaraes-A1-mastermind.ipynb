{
 "cells": [
  {
   "cell_type": "markdown",
   "id": "hollywood-public",
   "metadata": {},
   "source": [
    "# Resolvendo o Jogo Mastermind com Programação Inteira\n",
    "\n",
    "O Mastermind é um famoso jogo de tabuleiro, que consiste em adivinhar uma senha por tentativa e erro. A senha tem um certo comprimento $n$, e cada um dos $n$ caracteres é um pino de alguma cor, tomada dentre $d$ disponíveis - uma cor pode repetir-se na mesma senha ou não, dependendo da versão. A cada tentativa, o tabuleiro informa quantas posições foram preenchidas com a cor correta - essa quantidade é indicada por pontinhos pretos, mas a posição desses acertos, não. Além disso, é possível saber quantas das cores postas realmente ocorrem na senha, porém na posição errada - quantidade indicada por pontinhos brancos, mas que vamos desprezar na presente abordagem.\n",
    "\n",
    "Há vários sítios na internet onde é possível **jogar gratuitamente**. Por exemplo, este:\n",
    "https://www.matrixlab-examples.com/mastermind-game.html\n",
    "\n",
    "O objetivo desta exposição é modelar o jogo como um problema de programação linear inteira, e desenvolver um código que permita acumular as informações dos erros até acertar a senha."
   ]
  },
  {
   "cell_type": "markdown",
   "id": "sublime-overall",
   "metadata": {},
   "source": [
    "### Modelando o problema\n",
    "\n",
    "O número de variáveis será $dn$. As variáveis $x_{ij}$, com $0 \\le i \\le d-1$ e $0 \\le j \\le n-1$, são as indicadoras de \"a cor $i$ está correta na posição $j$\", ou seja, $x_{ij}=1$, em caso afirmativo, e $x_{ij}=0$, caso contrário.\n",
    "\n",
    "Naturalmente, cada coluna da matriz $X=(x_{ij}) \\in M_{d \\times n}(\\mathbb{Z_2})$ tem soma $1$, pois cada posição $j$ admite uma única cor correta $i$.\n",
    "\n",
    "Finalmente, cada tentativa $k$ terá um número de acertos $a_k$ com a string $s_k=s_{k0}s_{k1}\\ldots s_{k(n-1)}$, que produzirá uma nova restrição sobre as variáveis: $$\\displaystyle\\sum_{j=0}^{n-1}x_{s_{kj}}=a_k$$\n",
    "\n",
    "Então, eis as restrições a que o programa linear está sujeito:\n",
    "\n",
    "---\n",
    "* cada $x_{ij}$ é um inteiro igual a $0$ ou $1$;\n",
    "* $\\displaystyle\\sum_{i=0}^{d-1}x_{ij}=1, \\quad j=0,1,\\ldots, n-1$;\n",
    "* cada tentativa $k$ atualiza o programa com uma nova restrição $\\displaystyle\\sum_{j=0}^{n-1}x_{s_{kj}}=a_k$.\n",
    "\n",
    "\n",
    "**Importante: não temos função objetivo!**\n",
    "\n",
    "---"
   ]
  },
  {
   "cell_type": "markdown",
   "id": "electronic-brave",
   "metadata": {},
   "source": [
    "### Vamos utilizar a biblioteca OR-Tools"
   ]
  },
  {
   "cell_type": "code",
   "execution_count": 1,
   "id": "moral-right",
   "metadata": {},
   "outputs": [],
   "source": [
    "import ortools.linear_solver.pywraplp as otlp"
   ]
  },
  {
   "cell_type": "markdown",
   "id": "upper-faculty",
   "metadata": {},
   "source": [
    "### Criando um objeto Mastermind()\n",
    "\n",
    "Este objeto, ao ser instanciado, cria o solver, recebe as dimensões $d$ e $n$ da matriz de variáveis, cria as variáveis indicadoras e adiciona as restrições das somas das colunas.\n",
    "\n",
    "Ele conta com dois métodos.\n",
    "\n",
    "Um método é o add_restr(), para adicionar novas restrições, a partir de uma senha tentada (pswd) e da sua quantidade de acertos (hit).\n",
    "\n",
    "O outro é o new_guess(), que retorna uma sugestão de palpite: uma lista de $n$ inteiros de $0$ a $d-1$, possivelmente dentre várias existentes na região factível. Caso não exista solução viável - devido a alguma inconsistência lógica no jogo ou nas informações fornecidas -, o método simplesmente retorna False."
   ]
  },
  {
   "cell_type": "code",
   "execution_count": 2,
   "id": "pretty-classic",
   "metadata": {},
   "outputs": [],
   "source": [
    "class Mastermind:\n",
    "\n",
    "\tdef __init__(self, d, n):\n",
    "\t\tself.solver = otlp.Solver('euler185', otlp.Solver.CBC_MIXED_INTEGER_PROGRAMMING)\n",
    "\n",
    "\t\tself.digits = d\n",
    "\t\tself.length = n\n",
    "\t\tself.X = {}\n",
    "\n",
    "\t\tfor i in range(d):\n",
    "\t\t\tself.X[i] = []\n",
    "\t\t\tfor j in range(n):\n",
    "\t\t\t\tself.X[i].append(self.solver.IntVar(0,1,'x[{}][{}]'.format(i,j)))\n",
    "\t\n",
    "\t\tfor j in range(n):\n",
    "\t\t\tself.solver.Add(self.solver.Sum(self.X[i][j] for i in range(d)) == 1)\n",
    "\n",
    "\tdef add_restr(self, pswd, hit):\n",
    "\t\tself.solver.Add(self.solver.Sum(self.X[int(pswd[j])][j] for j in range(self.length)) == hit)\n",
    "\n",
    "\tdef new_guess(self):\n",
    "\t\ttry:\n",
    "\t\t\tself.solver.Solve()\n",
    "\t\t\tsuggestion = ''\n",
    "\t\t\tfor j in range(self.length):\n",
    "\t\t\t\tfor i in range(self.digits):\n",
    "\t\t\t\t\tif self.X[i][j].solution_value() > 0.5:\n",
    "\t\t\t\t\t\tsuggestion += ' ' + str(i)\n",
    "\t\t\t\t\t\ti += self.digits\n",
    "\t\t\treturn suggestion\n",
    "\t\texcept:\n",
    "\t\t\treturn False"
   ]
  },
  {
   "cell_type": "markdown",
   "id": "equivalent-passing",
   "metadata": {},
   "source": [
    "### Vencendo um jogo\n",
    "\n",
    "Se estiver jogando alguma versão do jogo da senha e quiser conferir o objeto acima funcionando, use o pequeno programa a seguir. É um código rudimentar, bem pouco à prova de erros. Lembre-se de representar as cores por dígitos de $0$ a $d-1$, e de contar como acertos **somente os pontos pretos**. Você não precisa sempre seguir a senha sugerida (geralmente restam várias no conjunto viável), mas é indispensável fornecer sempre a quantidade correta de acertos.\n",
    "\n",
    "Vale copiar de novo o link exibido no primeiro box:\n",
    "https://www.matrixlab-examples.com/mastermind-game.html"
   ]
  },
  {
   "cell_type": "code",
   "execution_count": null,
   "id": "genetic-symphony",
   "metadata": {},
   "outputs": [
    {
     "name": "stdout",
     "output_type": "stream",
     "text": [
      "Quantas cores há? \n"
     ]
    }
   ],
   "source": [
    "print('Quantas cores há? ')\n",
    "d = int(input())\n",
    "print('Qual é o comprimento da senha? ')\n",
    "n = int(input())\n",
    "\n",
    "master =  Mastermind(d,n)\n",
    "terminated = False\n",
    "\n",
    "print('Por favor, separe os dígitos da senha por espaços.')\n",
    "while not terminated:\n",
    "\tprint('Qual foi a última senha tentada? ')\n",
    "\tpswd = input().split()\n",
    "\tprint('Quantos acertos ela teve? ')\n",
    "\thit = int(input())\n",
    "\n",
    "\tif hit >= master.length:\n",
    "\t\tprint('Parabéns! Você venceu!')\n",
    "\t\tbreak\n",
    "\n",
    "\tmaster.add_restr(pswd, hit)\n",
    "\tsuggestion = master.new_guess()\n",
    "\tif suggestion:\n",
    "\t\tprint('Tente a senha ', suggestion)\n",
    "\telse:\n",
    "\t\tprint('Acabaram as sugestões!')\n",
    "\t\tterminated = True"
   ]
  },
  {
   "cell_type": "markdown",
   "id": "medical-attitude",
   "metadata": {},
   "source": [
    "# Resolvendo o problema 185 do Project Euler\n",
    "\n",
    "Eis o enunciado:\n",
    "\n",
    "O jogo Number Mind é uma variante do famoso Master Mind (também conhecido como Senha).\n",
    "\n",
    "Em vez de pinos coloridos, se lhe pede que adivinhe uma sequência secreta de dígitos. Sobre cada palpite, só é informada a quantidade de dígitos corretos em posições corretas. Então, se a sequência era 1234 e o \"chute\" foi 2036, você seria informado de que acertou 1 dígito; contudo, não lhe seria dito que há um outro dígito, correto, porém na posição errada.\n",
    "\n",
    "Por exemplo, dados os seguintes chutes para uma sequência secreta de cinco dígitos,\n",
    "\n",
    "90342 ;2 corretos\n",
    "70794 ;0 correto\n",
    "39458 ;2 corretos\n",
    "34109 ;1 correto\n",
    "51545 ;2 corretos\n",
    "12531 ;1 correto\n",
    "\n",
    "A sequência correta 39542 é única.\n",
    "\n",
    "Tome por base os seguintes palpites:\n",
    "\n",
    "5616185650518293 ;2 corretos  \n",
    "3847439647293047 ;1 correto  \n",
    "5855462940810587 ;3 corretos  \n",
    "9742855507068353 ;3 corretos  \n",
    "4296849643607543 ;3 corretos  \n",
    "3174248439465858 ;1 correto  \n",
    "4513559094146117 ;2 corretos  \n",
    "7890971548908067 ;3 corretos  \n",
    "8157356344118483 ;1 correto  \n",
    "2615250744386899 ;2 corretos  \n",
    "8690095851526254 ;3 corretos  \n",
    "6375711915077050 ;1 correto  \n",
    "6913859173121360 ;1 correto  \n",
    "6442889055042768 ;2 corretos  \n",
    "2321386104303845 ;0 correto  \n",
    "2326509471271448 ;2 corretos  \n",
    "5251583379644322 ;2 corretos  \n",
    "1748270476758276 ;3 corretos  \n",
    "4895722652190306 ;1 correto  \n",
    "3041631117224635 ;3 corretos  \n",
    "1841236454324589 ;3 corretos  \n",
    "2659862637316867 ;2 corretos  \n",
    "\n",
    "Ache a única sequência secreta de 16 dígitos."
   ]
  },
  {
   "cell_type": "code",
   "execution_count": null,
   "id": "appropriate-pennsylvania",
   "metadata": {},
   "outputs": [],
   "source": [
    "import pandas as pd\n",
    "\n",
    "guesses = pd.read_csv('project-euler-185.csv')\n",
    "G = guesses.iloc[:,:-1].values\n",
    "h = guesses.iloc[:,-1].values\n",
    "\n",
    "n = len(G[0])\n",
    "master = Mastermind(10,n)\n",
    "\n",
    "for k in range(len(h)):\n",
    "        master.add_restr(G[k], h[k])\n",
    "        \n",
    "print('A senha é ', master.new_guess())"
   ]
  }
 ],
 "metadata": {
  "kernelspec": {
   "display_name": "Python 3",
   "language": "python",
   "name": "python3"
  },
  "language_info": {
   "codemirror_mode": {
    "name": "ipython",
    "version": 3
   },
   "file_extension": ".py",
   "mimetype": "text/x-python",
   "name": "python",
   "nbconvert_exporter": "python",
   "pygments_lexer": "ipython3",
   "version": "3.6.9"
  }
 },
 "nbformat": 4,
 "nbformat_minor": 5
}
